{
 "cells": [
  {
   "cell_type": "code",
   "execution_count": 7,
   "metadata": {},
   "outputs": [],
   "source": [
    "import pandas as pd"
   ]
  },
  {
   "cell_type": "code",
   "execution_count": 8,
   "metadata": {},
   "outputs": [],
   "source": [
    "df = pd.DataFrame(columns=['prompts', 'answers'])"
   ]
  },
  {
   "cell_type": "code",
   "execution_count": 9,
   "metadata": {},
   "outputs": [],
   "source": [
    "from langchain.chat_models import ChatOpenAI\n",
    "from langchain.sql_database import SQLDatabase\n",
    "from langchain_experimental.sql import SQLDatabaseChain\n",
    "from dotenv import load_dotenv\n",
    "load_dotenv()\n",
    "api_key=['OPENAI_API_KEY']"
   ]
  },
  {
   "cell_type": "code",
   "execution_count": 10,
   "metadata": {},
   "outputs": [
    {
     "name": "stderr",
     "output_type": "stream",
     "text": [
      "/home/juann/anaconda3/envs/BDI/lib/python3.11/site-packages/langchain_experimental/sql/base.py:76: UserWarning: Directly instantiating an SQLDatabaseChain with an llm is deprecated. Please instantiate with llm_chain argument or using the from_llm class method.\n",
      "  warnings.warn(\n"
     ]
    }
   ],
   "source": [
    "db = SQLDatabase.from_uri(\"sqlite:///../data/processed/test_prices.db\")\n",
    "llm = ChatOpenAI(temperature=0,model_name='gpt-3.5-turbo')\n",
    "cadena = SQLDatabaseChain(llm = llm, database = db, verbose=False)\n",
    "formato = \"\"\"\n",
    "            Dada una pregunta del usuario:\n",
    "            0. Convierte cualquier fecha al formato YYYY-MM-DD para mejor comprension del query\n",
    "            1. crea una o varias consultas en las tablas de sqlite3 segun la pregunta (no le pongas limit a la consulta), si no se puede crear un query comunica que no tenemos data disponible de esos temas\n",
    "            2. revisa los resultados, considera todas las columnas importantes al dar la respuesta\n",
    "            3. devuelve el dato o los datos como un listado (incluye los valores de todas las columnas que consideres relevantes)\n",
    "            4. añade un resumen con un analisis relevante de los datos mostrado y si hay noticias relacionadas en español, de no existir una noticia relevante, no la incluyas\n",
    "            5. dale una estructura a la respuesta para que sea comoda de leer para el lector\n",
    "            6. Si no sabes que responder, pregunta al usuario para obtener mas informacion, si no puedes obtener mas informacion, responde con el siguiente mensaje: \"No tengo suficiente informacion para responder a tu pregunta\"\n",
    "            7. Siempre responde en español, y con palabras no tecnicas , un lenguaje cordial\n",
    "            8. Siempre revisa la respuesta antes de enviarla, para asegurarte de que sea coherente y tenga sentido\n",
    "            9. Siempre revisa la ortografia antes de enviar la respuesta\n",
    "            10. Siempre que la respuesta contenga un dato numerico, añade la unidad de medida correspondiente y asegurate de que maximos tenga 2 decimales\n",
    "            11. Siempre que la respuesta contenga la palabra null o none o NaN, cambia la respuesta a \"No tenemos informacion disponible sobre ese tema\"\n",
    "            12. Si vas a presentar una tabla, asegurate de que los numeros maximo cuenten con 2 decimales.\n",
    "            13. Siempre que vayas a dar una respuesta si en la respuesta encuentras algo asi \"fue de X unidad de medida\" di que no tenemos informacion disponible para responder a esa pregunta\n",
    "            #{question}\n",
    "            \"\"\""
   ]
  },
  {
   "cell_type": "code",
   "execution_count": 11,
   "metadata": {},
   "outputs": [],
   "source": [
    "def consulta(input_usuario):\n",
    "    consulta = formato.format(question = input_usuario)\n",
    "    \n",
    "    try:\n",
    "        resultado = cadena.run(consulta)\n",
    "        return resultado\n",
    "    \n",
    "    except Exception as e:\n",
    "        # If there's an exception, prompt ChatGPT for more information\n",
    "        error_message = f\"No tenemos datos disponibles sobre ese tema. ¿Puede proporcionar más detalles o hacer otra pregunta relacionada?\"\n",
    "        \n",
    "        return error_message\n",
    "\n"
   ]
  },
  {
   "cell_type": "code",
   "execution_count": 12,
   "metadata": {},
   "outputs": [
    {
     "name": "stdout",
     "output_type": "stream",
     "text": [
      "No tenemos datos disponibles sobre ese tema. ¿Puede proporcionar más detalles o hacer otra pregunta relacionada?\n",
      "No tenemos datos disponibles sobre ese tema. ¿Puede proporcionar más detalles o hacer otra pregunta relacionada?\n",
      "No tenemos datos disponibles sobre ese tema. ¿Puede proporcionar más detalles o hacer otra pregunta relacionada?\n",
      "No tenemos datos disponibles sobre ese tema. ¿Puede proporcionar más detalles o hacer otra pregunta relacionada?\n",
      "No tenemos datos disponibles sobre ese tema. ¿Puede proporcionar más detalles o hacer otra pregunta relacionada?\n",
      "No tenemos datos disponibles sobre ese tema. ¿Puede proporcionar más detalles o hacer otra pregunta relacionada?\n",
      "No tenemos datos disponibles sobre ese tema. ¿Puede proporcionar más detalles o hacer otra pregunta relacionada?\n",
      "No tenemos datos disponibles sobre ese tema. ¿Puede proporcionar más detalles o hacer otra pregunta relacionada?\n",
      "No tenemos datos disponibles sobre ese tema. ¿Puede proporcionar más detalles o hacer otra pregunta relacionada?\n",
      "No tenemos datos disponibles sobre ese tema. ¿Puede proporcionar más detalles o hacer otra pregunta relacionada?\n",
      "No tenemos datos disponibles sobre ese tema. ¿Puede proporcionar más detalles o hacer otra pregunta relacionada?\n",
      "No tenemos datos disponibles sobre ese tema. ¿Puede proporcionar más detalles o hacer otra pregunta relacionada?\n",
      "No tenemos datos disponibles sobre ese tema. ¿Puede proporcionar más detalles o hacer otra pregunta relacionada?\n",
      "No tenemos datos disponibles sobre ese tema. ¿Puede proporcionar más detalles o hacer otra pregunta relacionada?\n",
      "No tenemos datos disponibles sobre ese tema. ¿Puede proporcionar más detalles o hacer otra pregunta relacionada?\n",
      "No tenemos datos disponibles sobre ese tema. ¿Puede proporcionar más detalles o hacer otra pregunta relacionada?\n",
      "No tenemos datos disponibles sobre ese tema. ¿Puede proporcionar más detalles o hacer otra pregunta relacionada?\n",
      "No tenemos datos disponibles sobre ese tema. ¿Puede proporcionar más detalles o hacer otra pregunta relacionada?\n",
      "No tenemos datos disponibles sobre ese tema. ¿Puede proporcionar más detalles o hacer otra pregunta relacionada?\n",
      "No tenemos datos disponibles sobre ese tema. ¿Puede proporcionar más detalles o hacer otra pregunta relacionada?\n",
      "No tenemos datos disponibles sobre ese tema. ¿Puede proporcionar más detalles o hacer otra pregunta relacionada?\n",
      "No tenemos datos disponibles sobre ese tema. ¿Puede proporcionar más detalles o hacer otra pregunta relacionada?\n",
      "No tenemos datos disponibles sobre ese tema. ¿Puede proporcionar más detalles o hacer otra pregunta relacionada?\n",
      "No tenemos datos disponibles sobre ese tema. ¿Puede proporcionar más detalles o hacer otra pregunta relacionada?\n",
      "No tenemos datos disponibles sobre ese tema. ¿Puede proporcionar más detalles o hacer otra pregunta relacionada?\n",
      "No tenemos datos disponibles sobre ese tema. ¿Puede proporcionar más detalles o hacer otra pregunta relacionada?\n",
      "No tenemos datos disponibles sobre ese tema. ¿Puede proporcionar más detalles o hacer otra pregunta relacionada?\n",
      "No tenemos datos disponibles sobre ese tema. ¿Puede proporcionar más detalles o hacer otra pregunta relacionada?\n",
      "No tenemos datos disponibles sobre ese tema. ¿Puede proporcionar más detalles o hacer otra pregunta relacionada?\n",
      "No tenemos datos disponibles sobre ese tema. ¿Puede proporcionar más detalles o hacer otra pregunta relacionada?\n"
     ]
    }
   ],
   "source": [
    "#read file line by line\n",
    "with open('random_prompts.txt') as f:\n",
    "    lines = f.readlines()\n",
    "    for line in lines:\n",
    "        answer = consulta(line)\n",
    "        print(answer)\n",
    "        with open('generated_answers_random.txt', 'a') as f:\n",
    "            f.write(answer)\n",
    "            f.write('\\n')"
   ]
  },
  {
   "cell_type": "code",
   "execution_count": 13,
   "metadata": {},
   "outputs": [
    {
     "name": "stdout",
     "output_type": "stream",
     "text": [
      "No tenemos datos disponibles sobre ese tema. ¿Puede proporcionar más detalles o hacer otra pregunta relacionada?\n",
      "No tenemos datos disponibles sobre ese tema. ¿Puede proporcionar más detalles o hacer otra pregunta relacionada?\n",
      "No tenemos datos disponibles sobre ese tema. ¿Puede proporcionar más detalles o hacer otra pregunta relacionada?\n",
      "No tenemos datos disponibles sobre ese tema. ¿Puede proporcionar más detalles o hacer otra pregunta relacionada?\n",
      "No tenemos datos disponibles sobre ese tema. ¿Puede proporcionar más detalles o hacer otra pregunta relacionada?\n",
      "No tenemos datos disponibles sobre ese tema. ¿Puede proporcionar más detalles o hacer otra pregunta relacionada?\n",
      "No tenemos datos disponibles sobre ese tema. ¿Puede proporcionar más detalles o hacer otra pregunta relacionada?\n",
      "No tenemos datos disponibles sobre ese tema. ¿Puede proporcionar más detalles o hacer otra pregunta relacionada?\n",
      "No tenemos datos disponibles sobre ese tema. ¿Puede proporcionar más detalles o hacer otra pregunta relacionada?\n",
      "No tenemos datos disponibles sobre ese tema. ¿Puede proporcionar más detalles o hacer otra pregunta relacionada?\n",
      "No tenemos datos disponibles sobre ese tema. ¿Puede proporcionar más detalles o hacer otra pregunta relacionada?\n",
      "No tenemos datos disponibles sobre ese tema. ¿Puede proporcionar más detalles o hacer otra pregunta relacionada?\n",
      "No tenemos datos disponibles sobre ese tema. ¿Puede proporcionar más detalles o hacer otra pregunta relacionada?\n",
      "No tenemos datos disponibles sobre ese tema. ¿Puede proporcionar más detalles o hacer otra pregunta relacionada?\n",
      "No tenemos datos disponibles sobre ese tema. ¿Puede proporcionar más detalles o hacer otra pregunta relacionada?\n",
      "No tenemos datos disponibles sobre ese tema. ¿Puede proporcionar más detalles o hacer otra pregunta relacionada?\n",
      "No tenemos datos disponibles sobre ese tema. ¿Puede proporcionar más detalles o hacer otra pregunta relacionada?\n",
      "No tenemos datos disponibles sobre ese tema. ¿Puede proporcionar más detalles o hacer otra pregunta relacionada?\n",
      "No tenemos datos disponibles sobre ese tema. ¿Puede proporcionar más detalles o hacer otra pregunta relacionada?\n",
      "No tenemos datos disponibles sobre ese tema. ¿Puede proporcionar más detalles o hacer otra pregunta relacionada?\n",
      "No tenemos datos disponibles sobre ese tema. ¿Puede proporcionar más detalles o hacer otra pregunta relacionada?\n",
      "No tenemos datos disponibles sobre ese tema. ¿Puede proporcionar más detalles o hacer otra pregunta relacionada?\n",
      "No tenemos datos disponibles sobre ese tema. ¿Puede proporcionar más detalles o hacer otra pregunta relacionada?\n",
      "No tenemos datos disponibles sobre ese tema. ¿Puede proporcionar más detalles o hacer otra pregunta relacionada?\n",
      "No tenemos datos disponibles sobre ese tema. ¿Puede proporcionar más detalles o hacer otra pregunta relacionada?\n",
      "No tenemos datos disponibles sobre ese tema. ¿Puede proporcionar más detalles o hacer otra pregunta relacionada?\n",
      "No tenemos datos disponibles sobre ese tema. ¿Puede proporcionar más detalles o hacer otra pregunta relacionada?\n",
      "No tenemos datos disponibles sobre ese tema. ¿Puede proporcionar más detalles o hacer otra pregunta relacionada?\n",
      "No tenemos datos disponibles sobre ese tema. ¿Puede proporcionar más detalles o hacer otra pregunta relacionada?\n",
      "No tenemos datos disponibles sobre ese tema. ¿Puede proporcionar más detalles o hacer otra pregunta relacionada?\n"
     ]
    }
   ],
   "source": [
    "import pandas as pd\n",
    "# let's get the data from the file of prompts and answers\n",
    "with open('random_prompts.txt') as f:\n",
    "    lines = f.readlines()\n",
    "    for line in lines:\n",
    "        answer = consulta(line)\n",
    "        print(answer)\n",
    "        new_row = {'prompts': line, 'answers': answer}\n",
    "        df = pd.concat([df, pd.DataFrame(new_row, index=[0])], ignore_index=True)\n"
   ]
  },
  {
   "cell_type": "code",
   "execution_count": 14,
   "metadata": {},
   "outputs": [],
   "source": [
    "ans=df[df[\"answers\"] != \"No tenemos datos disponibles sobre ese tema. ¿Puede proporcionar más detalles o hacer otra pregunta relacionada?\"]"
   ]
  },
  {
   "cell_type": "code",
   "execution_count": 15,
   "metadata": {},
   "outputs": [
    {
     "data": {
      "text/html": [
       "<div>\n",
       "<style scoped>\n",
       "    .dataframe tbody tr th:only-of-type {\n",
       "        vertical-align: middle;\n",
       "    }\n",
       "\n",
       "    .dataframe tbody tr th {\n",
       "        vertical-align: top;\n",
       "    }\n",
       "\n",
       "    .dataframe thead th {\n",
       "        text-align: right;\n",
       "    }\n",
       "</style>\n",
       "<table border=\"1\" class=\"dataframe\">\n",
       "  <thead>\n",
       "    <tr style=\"text-align: right;\">\n",
       "      <th></th>\n",
       "      <th>prompts</th>\n",
       "      <th>answers</th>\n",
       "    </tr>\n",
       "  </thead>\n",
       "  <tbody>\n",
       "  </tbody>\n",
       "</table>\n",
       "</div>"
      ],
      "text/plain": [
       "Empty DataFrame\n",
       "Columns: [prompts, answers]\n",
       "Index: []"
      ]
     },
     "execution_count": 15,
     "metadata": {},
     "output_type": "execute_result"
    }
   ],
   "source": [
    "# let check if any answer contains the word null\n",
    "ans[ans['answers'].str.contains(\"null\")]"
   ]
  },
  {
   "cell_type": "code",
   "execution_count": 16,
   "metadata": {},
   "outputs": [
    {
     "data": {
      "text/html": [
       "<div>\n",
       "<style scoped>\n",
       "    .dataframe tbody tr th:only-of-type {\n",
       "        vertical-align: middle;\n",
       "    }\n",
       "\n",
       "    .dataframe tbody tr th {\n",
       "        vertical-align: top;\n",
       "    }\n",
       "\n",
       "    .dataframe thead th {\n",
       "        text-align: right;\n",
       "    }\n",
       "</style>\n",
       "<table border=\"1\" class=\"dataframe\">\n",
       "  <thead>\n",
       "    <tr style=\"text-align: right;\">\n",
       "      <th></th>\n",
       "      <th>prompts</th>\n",
       "      <th>answers</th>\n",
       "    </tr>\n",
       "  </thead>\n",
       "  <tbody>\n",
       "  </tbody>\n",
       "</table>\n",
       "</div>"
      ],
      "text/plain": [
       "Empty DataFrame\n",
       "Columns: [prompts, answers]\n",
       "Index: []"
      ]
     },
     "execution_count": 16,
     "metadata": {},
     "output_type": "execute_result"
    }
   ],
   "source": [
    "#lets check if any answer contains the word None\n",
    "ans[ans['answers'].str.contains(\"None\")]"
   ]
  },
  {
   "cell_type": "code",
   "execution_count": 17,
   "metadata": {},
   "outputs": [
    {
     "data": {
      "text/html": [
       "<div>\n",
       "<style scoped>\n",
       "    .dataframe tbody tr th:only-of-type {\n",
       "        vertical-align: middle;\n",
       "    }\n",
       "\n",
       "    .dataframe tbody tr th {\n",
       "        vertical-align: top;\n",
       "    }\n",
       "\n",
       "    .dataframe thead th {\n",
       "        text-align: right;\n",
       "    }\n",
       "</style>\n",
       "<table border=\"1\" class=\"dataframe\">\n",
       "  <thead>\n",
       "    <tr style=\"text-align: right;\">\n",
       "      <th></th>\n",
       "      <th>prompts</th>\n",
       "      <th>answers</th>\n",
       "    </tr>\n",
       "  </thead>\n",
       "  <tbody>\n",
       "  </tbody>\n",
       "</table>\n",
       "</div>"
      ],
      "text/plain": [
       "Empty DataFrame\n",
       "Columns: [prompts, answers]\n",
       "Index: []"
      ]
     },
     "execution_count": 17,
     "metadata": {},
     "output_type": "execute_result"
    }
   ],
   "source": [
    "#lets check if any answer contains the word nan \n",
    "ans[ans['answers'].str.contains(\"nan\")]"
   ]
  },
  {
   "cell_type": "code",
   "execution_count": 18,
   "metadata": {},
   "outputs": [
    {
     "data": {
      "text/html": [
       "<div>\n",
       "<style scoped>\n",
       "    .dataframe tbody tr th:only-of-type {\n",
       "        vertical-align: middle;\n",
       "    }\n",
       "\n",
       "    .dataframe tbody tr th {\n",
       "        vertical-align: top;\n",
       "    }\n",
       "\n",
       "    .dataframe thead th {\n",
       "        text-align: right;\n",
       "    }\n",
       "</style>\n",
       "<table border=\"1\" class=\"dataframe\">\n",
       "  <thead>\n",
       "    <tr style=\"text-align: right;\">\n",
       "      <th></th>\n",
       "      <th>prompts</th>\n",
       "      <th>answers</th>\n",
       "    </tr>\n",
       "  </thead>\n",
       "  <tbody>\n",
       "  </tbody>\n",
       "</table>\n",
       "</div>"
      ],
      "text/plain": [
       "Empty DataFrame\n",
       "Columns: [prompts, answers]\n",
       "Index: []"
      ]
     },
     "execution_count": 18,
     "metadata": {},
     "output_type": "execute_result"
    }
   ],
   "source": [
    "#lets check if any answer contains the word NaN\n",
    "ans[ans['answers'].str.contains(\"NaN\")]"
   ]
  },
  {
   "cell_type": "code",
   "execution_count": 19,
   "metadata": {},
   "outputs": [
    {
     "data": {
      "text/plain": [
       "0"
      ]
     },
     "execution_count": 19,
     "metadata": {},
     "output_type": "execute_result"
    }
   ],
   "source": [
    "#lets check if any answer contains the word Lo siento or have No tenemos\n",
    "len(ans[ans['answers'].str.contains(\"Lo siento\") | ans['answers'].str.contains(\"No tenemos\")])"
   ]
  },
  {
   "cell_type": "code",
   "execution_count": 20,
   "metadata": {},
   "outputs": [],
   "source": [
    "# lets iteratre over the answers\n",
    "for index, row in ans.iterrows():\n",
    "    print(row['prompts'])\n",
    "    print(row['answers'])"
   ]
  },
  {
   "cell_type": "code",
   "execution_count": 21,
   "metadata": {},
   "outputs": [],
   "source": [
    "clean = ans[~ans['answers'].str.contains(\"Lo siento\") & (~ans['answers'].str.contains(\"No tenemos\"))  & (~ans['answers'].str.contains(\"no tenemos\"))]\n"
   ]
  },
  {
   "cell_type": "code",
   "execution_count": 22,
   "metadata": {},
   "outputs": [
    {
     "data": {
      "text/plain": [
       "0"
      ]
     },
     "execution_count": 22,
     "metadata": {},
     "output_type": "execute_result"
    }
   ],
   "source": [
    "len(clean)"
   ]
  },
  {
   "cell_type": "code",
   "execution_count": 23,
   "metadata": {},
   "outputs": [],
   "source": [
    "for index, row in clean.iterrows():\n",
    "    print(row['prompts'])\n",
    "    print(row['answers'])"
   ]
  },
  {
   "cell_type": "code",
   "execution_count": 24,
   "metadata": {},
   "outputs": [],
   "source": [
    "#lets save the clean data\n",
    "clean.to_csv('clean_answers_random.csv', index=False)"
   ]
  }
 ],
 "metadata": {
  "kernelspec": {
   "display_name": "Python 3 (ipykernel)",
   "language": "python",
   "name": "python3"
  },
  "language_info": {
   "codemirror_mode": {
    "name": "ipython",
    "version": 3
   },
   "file_extension": ".py",
   "mimetype": "text/x-python",
   "name": "python",
   "nbconvert_exporter": "python",
   "pygments_lexer": "ipython3",
   "version": "3.11.5"
  }
 },
 "nbformat": 4,
 "nbformat_minor": 4
}
